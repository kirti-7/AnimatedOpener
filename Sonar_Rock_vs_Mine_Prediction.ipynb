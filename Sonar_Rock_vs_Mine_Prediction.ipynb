{
  "nbformat": 4,
  "nbformat_minor": 0,
  "metadata": {
    "colab": {
      "name": "Sonar Rock vs Mine Prediction.ipynb",
      "provenance": [],
      "authorship_tag": "ABX9TyOOb7tzXZ3qYlaf338NP4uz"
    },
    "kernelspec": {
      "name": "python3",
      "display_name": "Python 3"
    },
    "language_info": {
      "name": "python"
    }
  },
  "cells": [
    {
      "cell_type": "code",
      "execution_count": 2,
      "metadata": {
        "id": "xu0Jf1u4IilA"
      },
      "outputs": [],
      "source": [
        "# importing the dependencies\n",
        "\n",
        "import numpy as np \n",
        "import pandas as pd\n",
        "from sklearn.model_selection import train_test_split\n",
        "from sklearn.linear_model import LogisticRegression \n",
        "from sklearn.metrics import accuracy_score"
      ]
    },
    {
      "cell_type": "code",
      "source": [
        "# Data collection and data processing\n",
        "data=pd.read_csv(\"Sonar data.csv\")"
      ],
      "metadata": {
        "id": "D6yu-ZZ1K8QH"
      },
      "execution_count": 4,
      "outputs": []
    }
  ]
}